{
 "cells": [
  {
   "cell_type": "code",
   "execution_count": 1,
   "metadata": {},
   "outputs": [
    {
     "name": "stderr",
     "output_type": "stream",
     "text": [
      "/Users/deveshkandpal/anaconda/lib/python3.6/site-packages/sklearn/cross_validation.py:41: DeprecationWarning: This module was deprecated in version 0.18 in favor of the model_selection module into which all the refactored classes and functions are moved. Also note that the interface of the new CV iterators are different from that of this module. This module will be removed in 0.20.\n",
      "  \"This module will be removed in 0.20.\", DeprecationWarning)\n"
     ]
    }
   ],
   "source": [
    "import numpy as np\n",
    "import pandas as pd\n",
    "from sklearn.cross_validation import train_test_split\n",
    "from sklearn.metrics.pairwise import pairwise_distances"
   ]
  },
  {
   "cell_type": "code",
   "execution_count": 2,
   "metadata": {
    "collapsed": true
   },
   "outputs": [],
   "source": [
    "path = '/Users/deveshkandpal/Code/ADS/final-project/dataset/dataset/step3/state=NC/nc.json'\n",
    "nc_review_df = pd.read_json(path, orient='records', lines=True)"
   ]
  },
  {
   "cell_type": "code",
   "execution_count": 3,
   "metadata": {
    "scrolled": false
   },
   "outputs": [
    {
     "data": {
      "text/html": [
       "<div>\n",
       "<style>\n",
       "    .dataframe thead tr:only-child th {\n",
       "        text-align: right;\n",
       "    }\n",
       "\n",
       "    .dataframe thead th {\n",
       "        text-align: left;\n",
       "    }\n",
       "\n",
       "    .dataframe tbody tr th {\n",
       "        vertical-align: top;\n",
       "    }\n",
       "</style>\n",
       "<table border=\"1\" class=\"dataframe\">\n",
       "  <thead>\n",
       "    <tr style=\"text-align: right;\">\n",
       "      <th></th>\n",
       "      <th>address</th>\n",
       "      <th>attributes</th>\n",
       "      <th>categories</th>\n",
       "      <th>city</th>\n",
       "      <th>latitude</th>\n",
       "      <th>longitude</th>\n",
       "      <th>name</th>\n",
       "      <th>neighborhood</th>\n",
       "      <th>review_review_id</th>\n",
       "      <th>review_stars</th>\n",
       "      <th>review_text</th>\n",
       "      <th>stars</th>\n",
       "      <th>unique_business_id</th>\n",
       "      <th>user_average_stars</th>\n",
       "      <th>user_name</th>\n",
       "      <th>user_review_count</th>\n",
       "      <th>user_unique_user_id</th>\n",
       "    </tr>\n",
       "  </thead>\n",
       "  <tbody>\n",
       "    <tr>\n",
       "      <th>0</th>\n",
       "      <td>4801-P N Tryon St</td>\n",
       "      <td>{'Ambience': {'casual': False, 'classy': False...</td>\n",
       "      <td>[Restaurants, Mexican]</td>\n",
       "      <td>Charlotte</td>\n",
       "      <td>35.258699</td>\n",
       "      <td>-80.785958</td>\n",
       "      <td>Taqueria Tóluca</td>\n",
       "      <td></td>\n",
       "      <td>2kbvCQfmxfPSYGCnsl5tPw</td>\n",
       "      <td>3</td>\n",
       "      <td>If you don't speak Spanish, it is not a proble...</td>\n",
       "      <td>3.0</td>\n",
       "      <td>21516</td>\n",
       "      <td>3.65</td>\n",
       "      <td>Debra</td>\n",
       "      <td>423</td>\n",
       "      <td>401514</td>\n",
       "    </tr>\n",
       "    <tr>\n",
       "      <th>1</th>\n",
       "      <td>2121 Shamrock Dr</td>\n",
       "      <td>{'Alcohol': 'full_bar', 'Ambience': {'casual':...</td>\n",
       "      <td>[Sandwiches, Restaurants, American (New)]</td>\n",
       "      <td>Charlotte</td>\n",
       "      <td>35.235092</td>\n",
       "      <td>-80.787771</td>\n",
       "      <td>Letty's</td>\n",
       "      <td>Plaza Midwood</td>\n",
       "      <td>B8MWqpia_A2SvEPCdhIBWg</td>\n",
       "      <td>5</td>\n",
       "      <td>Love Letty's! it is off the beaten path (for m...</td>\n",
       "      <td>4.0</td>\n",
       "      <td>21262</td>\n",
       "      <td>4.22</td>\n",
       "      <td>Robin</td>\n",
       "      <td>72</td>\n",
       "      <td>6619</td>\n",
       "    </tr>\n",
       "    <tr>\n",
       "      <th>2</th>\n",
       "      <td>4801-P N Tryon St</td>\n",
       "      <td>{'Ambience': {'casual': False, 'classy': False...</td>\n",
       "      <td>[Restaurants, Mexican]</td>\n",
       "      <td>Charlotte</td>\n",
       "      <td>35.258699</td>\n",
       "      <td>-80.785958</td>\n",
       "      <td>Taqueria Tóluca</td>\n",
       "      <td></td>\n",
       "      <td>5WlLB5jxCJ-5M8N4ID8GoA</td>\n",
       "      <td>2</td>\n",
       "      <td>The food wasn't great, and our waitress wasn't...</td>\n",
       "      <td>3.0</td>\n",
       "      <td>21516</td>\n",
       "      <td>2.20</td>\n",
       "      <td>Leslie</td>\n",
       "      <td>5</td>\n",
       "      <td>64544</td>\n",
       "    </tr>\n",
       "    <tr>\n",
       "      <th>3</th>\n",
       "      <td>2121 Shamrock Dr</td>\n",
       "      <td>{'Alcohol': 'full_bar', 'Ambience': {'casual':...</td>\n",
       "      <td>[Sandwiches, Restaurants, American (New)]</td>\n",
       "      <td>Charlotte</td>\n",
       "      <td>35.235092</td>\n",
       "      <td>-80.787771</td>\n",
       "      <td>Letty's</td>\n",
       "      <td>Plaza Midwood</td>\n",
       "      <td>rvM9x7GIFc84xXM8SsdQjw</td>\n",
       "      <td>4</td>\n",
       "      <td>I was pretty sad to see Foskoskie's close, but...</td>\n",
       "      <td>4.0</td>\n",
       "      <td>21262</td>\n",
       "      <td>3.92</td>\n",
       "      <td>Peter</td>\n",
       "      <td>127</td>\n",
       "      <td>28164</td>\n",
       "    </tr>\n",
       "    <tr>\n",
       "      <th>4</th>\n",
       "      <td>4801-P N Tryon St</td>\n",
       "      <td>{'Ambience': {'casual': False, 'classy': False...</td>\n",
       "      <td>[Restaurants, Mexican]</td>\n",
       "      <td>Charlotte</td>\n",
       "      <td>35.258699</td>\n",
       "      <td>-80.785958</td>\n",
       "      <td>Taqueria Tóluca</td>\n",
       "      <td></td>\n",
       "      <td>qUSAl2ATzTBeTI1DOkSvIA</td>\n",
       "      <td>5</td>\n",
       "      <td>Awesome prices for the amount of food!!! Very ...</td>\n",
       "      <td>3.0</td>\n",
       "      <td>21516</td>\n",
       "      <td>4.20</td>\n",
       "      <td>Dom</td>\n",
       "      <td>5</td>\n",
       "      <td>415884</td>\n",
       "    </tr>\n",
       "  </tbody>\n",
       "</table>\n",
       "</div>"
      ],
      "text/plain": [
       "             address                                         attributes  \\\n",
       "0  4801-P N Tryon St  {'Ambience': {'casual': False, 'classy': False...   \n",
       "1   2121 Shamrock Dr  {'Alcohol': 'full_bar', 'Ambience': {'casual':...   \n",
       "2  4801-P N Tryon St  {'Ambience': {'casual': False, 'classy': False...   \n",
       "3   2121 Shamrock Dr  {'Alcohol': 'full_bar', 'Ambience': {'casual':...   \n",
       "4  4801-P N Tryon St  {'Ambience': {'casual': False, 'classy': False...   \n",
       "\n",
       "                                  categories       city   latitude  longitude  \\\n",
       "0                     [Restaurants, Mexican]  Charlotte  35.258699 -80.785958   \n",
       "1  [Sandwiches, Restaurants, American (New)]  Charlotte  35.235092 -80.787771   \n",
       "2                     [Restaurants, Mexican]  Charlotte  35.258699 -80.785958   \n",
       "3  [Sandwiches, Restaurants, American (New)]  Charlotte  35.235092 -80.787771   \n",
       "4                     [Restaurants, Mexican]  Charlotte  35.258699 -80.785958   \n",
       "\n",
       "              name   neighborhood        review_review_id  review_stars  \\\n",
       "0  Taqueria Tóluca                 2kbvCQfmxfPSYGCnsl5tPw             3   \n",
       "1          Letty's  Plaza Midwood  B8MWqpia_A2SvEPCdhIBWg             5   \n",
       "2  Taqueria Tóluca                 5WlLB5jxCJ-5M8N4ID8GoA             2   \n",
       "3          Letty's  Plaza Midwood  rvM9x7GIFc84xXM8SsdQjw             4   \n",
       "4  Taqueria Tóluca                 qUSAl2ATzTBeTI1DOkSvIA             5   \n",
       "\n",
       "                                         review_text  stars  \\\n",
       "0  If you don't speak Spanish, it is not a proble...    3.0   \n",
       "1  Love Letty's! it is off the beaten path (for m...    4.0   \n",
       "2  The food wasn't great, and our waitress wasn't...    3.0   \n",
       "3  I was pretty sad to see Foskoskie's close, but...    4.0   \n",
       "4  Awesome prices for the amount of food!!! Very ...    3.0   \n",
       "\n",
       "   unique_business_id  user_average_stars user_name  user_review_count  \\\n",
       "0               21516                3.65     Debra                423   \n",
       "1               21262                4.22     Robin                 72   \n",
       "2               21516                2.20    Leslie                  5   \n",
       "3               21262                3.92     Peter                127   \n",
       "4               21516                4.20       Dom                  5   \n",
       "\n",
       "   user_unique_user_id  \n",
       "0               401514  \n",
       "1                 6619  \n",
       "2                64544  \n",
       "3                28164  \n",
       "4               415884  "
      ]
     },
     "execution_count": 3,
     "metadata": {},
     "output_type": "execute_result"
    }
   ],
   "source": [
    "nc_review_df.head()"
   ]
  },
  {
   "cell_type": "code",
   "execution_count": 4,
   "metadata": {
    "collapsed": true
   },
   "outputs": [],
   "source": [
    "number_unique_users = nc_review_df.user_unique_user_id.nunique()\n",
    "number_unique_business = nc_review_df.unique_business_id.nunique()"
   ]
  },
  {
   "cell_type": "code",
   "execution_count": 5,
   "metadata": {
    "scrolled": true
   },
   "outputs": [
    {
     "name": "stdout",
     "output_type": "stream",
     "text": [
      "3780\n",
      "56401\n"
     ]
    }
   ],
   "source": [
    "print(number_unique_business)\n",
    "print(number_unique_users)"
   ]
  },
  {
   "cell_type": "code",
   "execution_count": 6,
   "metadata": {
    "collapsed": true
   },
   "outputs": [],
   "source": [
    "nc_review_df_new = nc_review_df[['user_unique_user_id','unique_business_id','review_stars','name']]"
   ]
  },
  {
   "cell_type": "code",
   "execution_count": 7,
   "metadata": {},
   "outputs": [
    {
     "data": {
      "text/html": [
       "<div>\n",
       "<style>\n",
       "    .dataframe thead tr:only-child th {\n",
       "        text-align: right;\n",
       "    }\n",
       "\n",
       "    .dataframe thead th {\n",
       "        text-align: left;\n",
       "    }\n",
       "\n",
       "    .dataframe tbody tr th {\n",
       "        vertical-align: top;\n",
       "    }\n",
       "</style>\n",
       "<table border=\"1\" class=\"dataframe\">\n",
       "  <thead>\n",
       "    <tr style=\"text-align: right;\">\n",
       "      <th></th>\n",
       "      <th>user_unique_user_id</th>\n",
       "      <th>unique_business_id</th>\n",
       "      <th>review_stars</th>\n",
       "      <th>name</th>\n",
       "    </tr>\n",
       "  </thead>\n",
       "  <tbody>\n",
       "    <tr>\n",
       "      <th>0</th>\n",
       "      <td>401514</td>\n",
       "      <td>21516</td>\n",
       "      <td>3</td>\n",
       "      <td>Taqueria Tóluca</td>\n",
       "    </tr>\n",
       "    <tr>\n",
       "      <th>1</th>\n",
       "      <td>6619</td>\n",
       "      <td>21262</td>\n",
       "      <td>5</td>\n",
       "      <td>Letty's</td>\n",
       "    </tr>\n",
       "    <tr>\n",
       "      <th>2</th>\n",
       "      <td>64544</td>\n",
       "      <td>21516</td>\n",
       "      <td>2</td>\n",
       "      <td>Taqueria Tóluca</td>\n",
       "    </tr>\n",
       "    <tr>\n",
       "      <th>3</th>\n",
       "      <td>28164</td>\n",
       "      <td>21262</td>\n",
       "      <td>4</td>\n",
       "      <td>Letty's</td>\n",
       "    </tr>\n",
       "    <tr>\n",
       "      <th>4</th>\n",
       "      <td>415884</td>\n",
       "      <td>21516</td>\n",
       "      <td>5</td>\n",
       "      <td>Taqueria Tóluca</td>\n",
       "    </tr>\n",
       "  </tbody>\n",
       "</table>\n",
       "</div>"
      ],
      "text/plain": [
       "   user_unique_user_id  unique_business_id  review_stars             name\n",
       "0               401514               21516             3  Taqueria Tóluca\n",
       "1                 6619               21262             5          Letty's\n",
       "2                64544               21516             2  Taqueria Tóluca\n",
       "3                28164               21262             4          Letty's\n",
       "4               415884               21516             5  Taqueria Tóluca"
      ]
     },
     "execution_count": 7,
     "metadata": {},
     "output_type": "execute_result"
    }
   ],
   "source": [
    "nc_review_df_new.head()"
   ]
  },
  {
   "cell_type": "code",
   "execution_count": 8,
   "metadata": {
    "collapsed": true
   },
   "outputs": [],
   "source": [
    "unique_user_dict = dict()\n",
    "unique_business_dict = dict()\n",
    "user_id_ctr = 0\n",
    "for user_id in nc_review_df_new['user_unique_user_id'].values :\n",
    "    \n",
    "    if user_id not in unique_user_dict :\n",
    "        \n",
    "        unique_user_dict[user_id] = user_id_ctr\n",
    "        user_id_ctr = user_id_ctr + 1\n",
    "        \n"
   ]
  },
  {
   "cell_type": "code",
   "execution_count": 9,
   "metadata": {
    "collapsed": true
   },
   "outputs": [],
   "source": [
    "business_id_ctr = 0   \n",
    "for business_id in nc_review_df_new['unique_business_id'].values :\n",
    "    \n",
    "    if business_id not in unique_business_dict :\n",
    "        unique_business_dict[business_id] = business_id_ctr\n",
    "        business_id_ctr = business_id_ctr + 1\n",
    "\n",
    "    "
   ]
  },
  {
   "cell_type": "code",
   "execution_count": 10,
   "metadata": {},
   "outputs": [
    {
     "name": "stderr",
     "output_type": "stream",
     "text": [
      "/Users/deveshkandpal/anaconda/lib/python3.6/site-packages/ipykernel_launcher.py:1: SettingWithCopyWarning: \n",
      "A value is trying to be set on a copy of a slice from a DataFrame.\n",
      "Try using .loc[row_indexer,col_indexer] = value instead\n",
      "\n",
      "See the caveats in the documentation: http://pandas.pydata.org/pandas-docs/stable/indexing.html#indexing-view-versus-copy\n",
      "  \"\"\"Entry point for launching an IPython kernel.\n",
      "/Users/deveshkandpal/anaconda/lib/python3.6/site-packages/ipykernel_launcher.py:2: SettingWithCopyWarning: \n",
      "A value is trying to be set on a copy of a slice from a DataFrame.\n",
      "Try using .loc[row_indexer,col_indexer] = value instead\n",
      "\n",
      "See the caveats in the documentation: http://pandas.pydata.org/pandas-docs/stable/indexing.html#indexing-view-versus-copy\n",
      "  \n"
     ]
    }
   ],
   "source": [
    "nc_review_df_new['dict_user_id'] = nc_review_df_new.apply(lambda x : unique_user_dict[x['user_unique_user_id']], axis = 1)\n",
    "nc_review_df_new['dict_bus_id'] = nc_review_df_new.apply(lambda x : unique_business_dict[x['unique_business_id']], axis = 1)"
   ]
  },
  {
   "cell_type": "code",
   "execution_count": 11,
   "metadata": {
    "scrolled": true
   },
   "outputs": [
    {
     "data": {
      "text/html": [
       "<div>\n",
       "<style>\n",
       "    .dataframe thead tr:only-child th {\n",
       "        text-align: right;\n",
       "    }\n",
       "\n",
       "    .dataframe thead th {\n",
       "        text-align: left;\n",
       "    }\n",
       "\n",
       "    .dataframe tbody tr th {\n",
       "        vertical-align: top;\n",
       "    }\n",
       "</style>\n",
       "<table border=\"1\" class=\"dataframe\">\n",
       "  <thead>\n",
       "    <tr style=\"text-align: right;\">\n",
       "      <th></th>\n",
       "      <th>user_unique_user_id</th>\n",
       "      <th>unique_business_id</th>\n",
       "      <th>review_stars</th>\n",
       "      <th>name</th>\n",
       "      <th>dict_user_id</th>\n",
       "      <th>dict_bus_id</th>\n",
       "    </tr>\n",
       "  </thead>\n",
       "  <tbody>\n",
       "    <tr>\n",
       "      <th>0</th>\n",
       "      <td>401514</td>\n",
       "      <td>21516</td>\n",
       "      <td>3</td>\n",
       "      <td>Taqueria Tóluca</td>\n",
       "      <td>0</td>\n",
       "      <td>0</td>\n",
       "    </tr>\n",
       "    <tr>\n",
       "      <th>1</th>\n",
       "      <td>6619</td>\n",
       "      <td>21262</td>\n",
       "      <td>5</td>\n",
       "      <td>Letty's</td>\n",
       "      <td>1</td>\n",
       "      <td>1</td>\n",
       "    </tr>\n",
       "    <tr>\n",
       "      <th>2</th>\n",
       "      <td>64544</td>\n",
       "      <td>21516</td>\n",
       "      <td>2</td>\n",
       "      <td>Taqueria Tóluca</td>\n",
       "      <td>2</td>\n",
       "      <td>0</td>\n",
       "    </tr>\n",
       "    <tr>\n",
       "      <th>3</th>\n",
       "      <td>28164</td>\n",
       "      <td>21262</td>\n",
       "      <td>4</td>\n",
       "      <td>Letty's</td>\n",
       "      <td>3</td>\n",
       "      <td>1</td>\n",
       "    </tr>\n",
       "    <tr>\n",
       "      <th>4</th>\n",
       "      <td>415884</td>\n",
       "      <td>21516</td>\n",
       "      <td>5</td>\n",
       "      <td>Taqueria Tóluca</td>\n",
       "      <td>4</td>\n",
       "      <td>0</td>\n",
       "    </tr>\n",
       "  </tbody>\n",
       "</table>\n",
       "</div>"
      ],
      "text/plain": [
       "   user_unique_user_id  unique_business_id  review_stars             name  \\\n",
       "0               401514               21516             3  Taqueria Tóluca   \n",
       "1                 6619               21262             5          Letty's   \n",
       "2                64544               21516             2  Taqueria Tóluca   \n",
       "3                28164               21262             4          Letty's   \n",
       "4               415884               21516             5  Taqueria Tóluca   \n",
       "\n",
       "   dict_user_id  dict_bus_id  \n",
       "0             0            0  \n",
       "1             1            1  \n",
       "2             2            0  \n",
       "3             3            1  \n",
       "4             4            0  "
      ]
     },
     "execution_count": 11,
     "metadata": {},
     "output_type": "execute_result"
    }
   ],
   "source": [
    "nc_review_df_new.head()"
   ]
  },
  {
   "cell_type": "code",
   "execution_count": 12,
   "metadata": {
    "collapsed": true
   },
   "outputs": [],
   "source": [
    "train_data, test_data = train_test_split(nc_review_df_new, test_size = 0.25)"
   ]
  },
  {
   "cell_type": "code",
   "execution_count": 13,
   "metadata": {
    "collapsed": true
   },
   "outputs": [],
   "source": [
    "#Create two user-item matrices, one for training and another for testing\n",
    "\n",
    "train_data_matrix = np.zeros((number_unique_users, number_unique_business))\n",
    "for line in train_data.itertuples():\n",
    "    train_data_matrix[line[5]-1, line[6]-1] = line[3]  \n",
    "\n",
    "test_data_matrix = np.zeros((number_unique_users, number_unique_business))\n",
    "for line in test_data.itertuples():\n",
    "    test_data_matrix[line[5]-1, line[6]-1] = line[3]"
   ]
  },
  {
   "cell_type": "code",
   "execution_count": null,
   "metadata": {
    "collapsed": true
   },
   "outputs": [],
   "source": []
  }
 ],
 "metadata": {
  "kernelspec": {
   "display_name": "Python 3",
   "language": "python",
   "name": "python3"
  },
  "language_info": {
   "codemirror_mode": {
    "name": "ipython",
    "version": 3
   },
   "file_extension": ".py",
   "mimetype": "text/x-python",
   "name": "python",
   "nbconvert_exporter": "python",
   "pygments_lexer": "ipython3",
   "version": "3.6.1"
  }
 },
 "nbformat": 4,
 "nbformat_minor": 2
}
