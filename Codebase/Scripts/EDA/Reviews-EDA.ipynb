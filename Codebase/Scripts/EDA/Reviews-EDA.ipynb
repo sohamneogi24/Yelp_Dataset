{
 "cells": [
  {
   "cell_type": "code",
   "execution_count": 1,
   "metadata": {
    "collapsed": true
   },
   "outputs": [],
   "source": [
    "import pandas as pd\n",
    "import json"
   ]
  },
  {
   "cell_type": "code",
   "execution_count": 2,
   "metadata": {
    "collapsed": true
   },
   "outputs": [],
   "source": [
    "path = '/Users/deveshkandpal/Code/ADS/final-project/dataset/output/user_rest_rating.json'\n",
    "user_rest_rating_df = pd.read_json(path, orient='records',lines=True)"
   ]
  },
  {
   "cell_type": "code",
   "execution_count": 3,
   "metadata": {
    "collapsed": true
   },
   "outputs": [],
   "source": [
    "import scipy.sparse as sp\n",
    "from scipy.sparse.linalg import svds"
   ]
  },
  {
   "cell_type": "code",
   "execution_count": 4,
   "metadata": {},
   "outputs": [
    {
     "data": {
      "text/plain": [
       "pandas.core.frame.DataFrame"
      ]
     },
     "execution_count": 4,
     "metadata": {},
     "output_type": "execute_result"
    }
   ],
   "source": [
    "type(user_rest_rating_df)"
   ]
  },
  {
   "cell_type": "code",
   "execution_count": 5,
   "metadata": {},
   "outputs": [
    {
     "name": "stderr",
     "output_type": "stream",
     "text": [
      "/Users/deveshkandpal/anaconda/lib/python3.6/site-packages/sklearn/cross_validation.py:41: DeprecationWarning: This module was deprecated in version 0.18 in favor of the model_selection module into which all the refactored classes and functions are moved. Also note that the interface of the new CV iterators are different from that of this module. This module will be removed in 0.20.\n",
      "  \"This module will be removed in 0.20.\", DeprecationWarning)\n"
     ]
    }
   ],
   "source": [
    "from sklearn.cross_validation import train_test_split\n"
   ]
  },
  {
   "cell_type": "code",
   "execution_count": 6,
   "metadata": {
    "collapsed": true
   },
   "outputs": [],
   "source": [
    "import numpy as np"
   ]
  },
  {
   "cell_type": "code",
   "execution_count": 7,
   "metadata": {
    "collapsed": true
   },
   "outputs": [],
   "source": [
    "n_users = user_rest_rating_df['user_id'].nunique()\n",
    "n_rest = user_rest_rating_df['business_id'].nunique()"
   ]
  },
  {
   "cell_type": "code",
   "execution_count": 8,
   "metadata": {},
   "outputs": [
    {
     "name": "stdout",
     "output_type": "stream",
     "text": [
      "-0Ji0nOyFe-4yo8BK4aRLA\n",
      "pmrHuQiy25xKB86tbOLBlA\n"
     ]
    }
   ],
   "source": [
    "user_dict = dict()\n",
    "rest_dict = dict()\n",
    "counter = 0\n",
    "for item in user_rest_rating_df['user_id'].unique() :\n",
    "    if counter == 0:\n",
    "        print(item)\n",
    "    user_dict[item] = counter\n",
    "    counter = counter + 1\n",
    "\n",
    "counter = 0\n",
    "for item in user_rest_rating_df['business_id'].unique() :\n",
    "    if counter == 0:\n",
    "        print(item)\n",
    "    rest_dict[item] = counter\n",
    "    counter = counter + 1\n"
   ]
  },
  {
   "cell_type": "code",
   "execution_count": 9,
   "metadata": {
    "collapsed": true
   },
   "outputs": [],
   "source": [
    "new_df = pd.DataFrame()\n",
    "new_df['user_id'] = user_rest_rating_df.apply(lambda x : user_dict[x['user_id']], axis= 1)\n",
    "new_df['business_id'] = user_rest_rating_df.apply(lambda x : rest_dict[x['business_id']], axis= 1)\n",
    "new_df['stars'] = user_rest_rating_df['stars']"
   ]
  },
  {
   "cell_type": "code",
   "execution_count": 10,
   "metadata": {
    "collapsed": true
   },
   "outputs": [],
   "source": [
    "train_data, test_data = train_test_split(new_df, test_size=0.25)"
   ]
  },
  {
   "cell_type": "code",
   "execution_count": null,
   "metadata": {
    "collapsed": true
   },
   "outputs": [],
   "source": [
    "train_data_matrix = np.zeros((n_users, n_rest))\n",
    "for line in train_data.itertuples() :\n",
    "    train_data_matrix[line[1]-1, line[2]-1] = line[3]\n",
    "\n",
    "test_data_matrix = np.zeros((n_users, n_rest))\n",
    "for line in test_data.itertuples() :\n",
    "    test_data_matrix[line[1]-1, line[2]-1] = line[3]\n",
    "\n"
   ]
  },
  {
   "cell_type": "code",
   "execution_count": null,
   "metadata": {
    "collapsed": true
   },
   "outputs": [],
   "source": [
    "u,s,vt = svds(train_data_matrix, k = 20)\n",
    "s_diag_matrix = np.diag(s)\n",
    "X_predict = np.dot(np.dot(u,s_diag_matrix), vt)\n"
   ]
  }
 ],
 "metadata": {
  "kernelspec": {
   "display_name": "Python 3",
   "language": "python",
   "name": "python3"
  },
  "language_info": {
   "codemirror_mode": {
    "name": "ipython",
    "version": 3
   },
   "file_extension": ".py",
   "mimetype": "text/x-python",
   "name": "python",
   "nbconvert_exporter": "python",
   "pygments_lexer": "ipython3",
   "version": "3.6.1"
  }
 },
 "nbformat": 4,
 "nbformat_minor": 2
}
