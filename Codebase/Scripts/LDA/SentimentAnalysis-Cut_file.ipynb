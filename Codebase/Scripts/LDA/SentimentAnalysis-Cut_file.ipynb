{
 "cells": [
  {
   "cell_type": "code",
   "execution_count": 2,
   "metadata": {
    "collapsed": true
   },
   "outputs": [],
   "source": [
    "import pandas as pd\n",
    "import numpy as np\n",
    "\n"
   ]
  },
  {
   "cell_type": "code",
   "execution_count": 3,
   "metadata": {
    "collapsed": true
   },
   "outputs": [],
   "source": [
    "path = '/Users/deveshkandpal/Code/ADS/final-project/dataset/dataset/step3/state=NC/nc.json'\n",
    "df = pd.read_json(path, orient='records', lines=True)"
   ]
  },
  {
   "cell_type": "code",
   "execution_count": 5,
   "metadata": {
    "collapsed": true
   },
   "outputs": [],
   "source": [
    "subset_df = df[['review_review_id','unique_business_id','address', 'name', 'review_stars', 'review_text', 'stars']]\n"
   ]
  },
  {
   "cell_type": "code",
   "execution_count": 6,
   "metadata": {
    "collapsed": true
   },
   "outputs": [],
   "source": [
    "subset_df.to_json('nc_sentiment.json', orient='records', lines=True)"
   ]
  },
  {
   "cell_type": "code",
   "execution_count": null,
   "metadata": {
    "collapsed": true
   },
   "outputs": [],
   "source": []
  },
  {
   "cell_type": "code",
   "execution_count": null,
   "metadata": {
    "collapsed": true
   },
   "outputs": [],
   "source": []
  },
  {
   "cell_type": "code",
   "execution_count": null,
   "metadata": {
    "collapsed": true
   },
   "outputs": [],
   "source": []
  },
  {
   "cell_type": "code",
   "execution_count": null,
   "metadata": {
    "collapsed": true
   },
   "outputs": [],
   "source": []
  },
  {
   "cell_type": "code",
   "execution_count": 1,
   "metadata": {
    "collapsed": true
   },
   "outputs": [],
   "source": [
    "import pandas as pd\n",
    "import numpy as np\n",
    "\n",
    "path = '/Users/deveshkandpal/Code/ADS/final-project/dataset/dataset/step3/state=OH/oh.json'\n",
    "df = pd.read_json(path, orient='records', lines=True)\n",
    "subset_df = df[['review_review_id','unique_business_id','address', 'name', 'review_stars', 'review_text', 'stars']]\n",
    "subset_df.to_json('oh_sentiment.json', orient='records', lines=True)"
   ]
  },
  {
   "cell_type": "code",
   "execution_count": 2,
   "metadata": {
    "collapsed": true
   },
   "outputs": [],
   "source": [
    "import pandas as pd\n",
    "import numpy as np\n",
    "\n",
    "path = '/Users/deveshkandpal/Code/ADS/final-project/dataset/dataset/step3/state=AZ/az.json'\n",
    "df = pd.read_json(path, orient='records', lines=True)\n",
    "subset_df = df[['review_review_id','unique_business_id','address', 'name', 'review_stars', 'review_text', 'stars']]\n",
    "subset_df.to_json('az_sentiment.json', orient='records', lines=True)"
   ]
  },
  {
   "cell_type": "code",
   "execution_count": 3,
   "metadata": {
    "collapsed": true
   },
   "outputs": [],
   "source": [
    "import pandas as pd\n",
    "import numpy as np\n",
    "\n",
    "path = '/Users/deveshkandpal/Code/ADS/final-project/dataset/dataset/step3/state=NV/nv.json'\n",
    "df = pd.read_json(path, orient='records', lines=True)\n",
    "subset_df = df[['review_review_id','unique_business_id','address', 'name', 'review_stars', 'review_text', 'stars']]\n",
    "subset_df.to_json('nv_sentiment.json', orient='records', lines=True)"
   ]
  }
 ],
 "metadata": {
  "kernelspec": {
   "display_name": "Python 3",
   "language": "python",
   "name": "python3"
  },
  "language_info": {
   "codemirror_mode": {
    "name": "ipython",
    "version": 3
   },
   "file_extension": ".py",
   "mimetype": "text/x-python",
   "name": "python",
   "nbconvert_exporter": "python",
   "pygments_lexer": "ipython3",
   "version": "3.6.1"
  }
 },
 "nbformat": 4,
 "nbformat_minor": 2
}
