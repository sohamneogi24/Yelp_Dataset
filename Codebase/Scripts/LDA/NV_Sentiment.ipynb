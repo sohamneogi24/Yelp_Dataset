{
 "cells": [
  {
   "cell_type": "code",
   "execution_count": 1,
   "metadata": {
    "collapsed": true
   },
   "outputs": [],
   "source": [
    "import pandas as pd\n",
    "import numpy as np\n",
    "import gensim\n",
    "from textblob import TextBlob\n",
    "import re\n",
    "import nltk\n",
    "from nltk.corpus import stopwords\n",
    "import gensim\n",
    "from gensim.parsing.preprocessing import STOPWORDS\n",
    "from nltk.stem.porter import PorterStemmer as ps\n",
    "from gensim import corpora\n",
    "from gensim import corpora, models, similarities\n",
    "\n",
    "path = '/Users/deveshkandpal/Code/ADS/final-project/dataset/dataset/Step6/sentiment-nv/nv_sentiment.json'\n",
    "nv_df = pd.read_json(path, orient='records', lines=True)\n"
   ]
  },
  {
   "cell_type": "code",
   "execution_count": 2,
   "metadata": {
    "collapsed": true
   },
   "outputs": [],
   "source": [
    "rest_review_dict = dict()\n",
    "for temp in nv_df.iterrows() :\n",
    "    row = temp[1]\n",
    "    business_id = row.unique_business_id\n",
    "    \n",
    "    review_text = row['review_text']\n",
    "    text = ' '.join([word for word in review_text.lower().split() if word not in STOPWORDS])\n",
    "    \n",
    "    review_stars = row['stars']\n",
    "    if business_id in rest_review_dict :\n",
    "        reviews_array = rest_review_dict[business_id]\n",
    "        reviews_array.append({'review_text' : review_text, 'review_stars' : review_stars,\n",
    "                              'polarity' : TextBlob(text).sentiment.polarity,\n",
    "                             'stemmed_text' : text})\n",
    "    else :\n",
    "        reviews_array = list()\n",
    "        reviews_array.append({'review_text' : review_text, 'review_stars' : review_stars,\n",
    "                              'polarity' : TextBlob(text).sentiment.polarity,\n",
    "                             'stemmed_text' : text})\n",
    "        rest_review_dict[business_id] = reviews_array\n",
    "    \n",
    "        \n",
    "        \n",
    "    "
   ]
  },
  {
   "cell_type": "code",
   "execution_count": 3,
   "metadata": {
    "collapsed": true
   },
   "outputs": [],
   "source": [
    "business_corpus = dict()\n",
    "for business_id, review_array in rest_review_dict.items():\n",
    "    consolidated_text = [review['stemmed_text'] for review in review_array]\n",
    "    texts = []\n",
    "    for t in consolidated_text :\n",
    "        for word in t.split(\" \") :\n",
    "            texts.append(word)\n",
    "    texts = [texts]\n",
    "    dictionary = corpora.Dictionary(texts)\n",
    "    corpus = [dictionary.doc2bow(text) for text in texts]\n",
    "    lda = models.LdaModel(corpus=corpus, id2word=dictionary, num_topics=2)\n",
    "    topics = dict()\n",
    "    for topic in lda.top_topics(corpus) :\n",
    "        b = topic[0][0:15]\n",
    "        for tup in b :\n",
    "            if tup[1] not in topics :\n",
    "                topics[tup[1]] = tup[0]\n",
    "            else :\n",
    "                if topics[tup[1]] < tup[0] :\n",
    "                    topics[tup[1]] = tup[0]\n",
    "    \n",
    "    \n",
    "    business_corpus[business_id] = topics\n",
    "\n",
    "        \n",
    "    \n"
   ]
  },
  {
   "cell_type": "code",
   "execution_count": 4,
   "metadata": {
    "collapsed": true
   },
   "outputs": [],
   "source": [
    "import pickle\n",
    "pickle_out = open(\"nv_sentiment_corpus.json\",\"wb\")\n",
    "pickle.dump(business_corpus, pickle_out)\n",
    "pickle_out.close()\n",
    "\n",
    "pickle_out = open(\"nv_bus_review_dict.json\",\"wb\")\n",
    "pickle.dump(rest_review_dict, pickle_out)\n",
    "pickle_out.close()"
   ]
  }
 ],
 "metadata": {
  "kernelspec": {
   "display_name": "Python 3",
   "language": "python",
   "name": "python3"
  },
  "language_info": {
   "codemirror_mode": {
    "name": "ipython",
    "version": 3
   },
   "file_extension": ".py",
   "mimetype": "text/x-python",
   "name": "python",
   "nbconvert_exporter": "python",
   "pygments_lexer": "ipython3",
   "version": "3.6.1"
  }
 },
 "nbformat": 4,
 "nbformat_minor": 2
}
