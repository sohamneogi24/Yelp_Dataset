{
 "cells": [
  {
   "cell_type": "code",
   "execution_count": 60,
   "metadata": {
    "collapsed": true
   },
   "outputs": [],
   "source": [
    "import pandas as pd\n",
    "import numpy as np\n",
    "\n"
   ]
  },
  {
   "cell_type": "code",
   "execution_count": 61,
   "metadata": {},
   "outputs": [
    {
     "name": "stdout",
     "output_type": "stream",
     "text": [
      "MmCorpus(5 documents, 27 features, 40 non-zero entries)\n"
     ]
    }
   ],
   "source": [
    "# path='/Users/deveshkandpal/Code/ADS/final-project/dataset/dataset/step3/state=NC/nc.json'\n",
    "# df = pd.read_json(path, orient='records', lines=True)\n",
    "# filtered_df = df[['unique_business_id', 'review_text']]\n",
    "# filtered_df = filtered_df[filtered_df['unique_business_id'] == 21516]\n",
    "from gensim import corpora, models, similarities\n",
    "dictionary = corpora.Dictionary.load('deerwester.dict')\n",
    "corpus = corpora.MmCorpus('deerwester.mm')\n",
    "print(corpus)\n"
   ]
  },
  {
   "cell_type": "code",
   "execution_count": 62,
   "metadata": {
    "collapsed": true
   },
   "outputs": [],
   "source": [
    "lsi = models.ldamodel(corpus, id2word=dictionary, num_topics=2)"
   ]
  },
  {
   "cell_type": "code",
   "execution_count": 63,
   "metadata": {},
   "outputs": [
    {
     "data": {
      "text/plain": [
       "[(0, 0.029728558990847934), (1, -0.47068584248972156)]"
      ]
     },
     "execution_count": 63,
     "metadata": {},
     "output_type": "execute_result"
    }
   ],
   "source": []
  },
  {
   "cell_type": "code",
   "execution_count": 3,
   "metadata": {
    "collapsed": true
   },
   "outputs": [],
   "source": [
    "\n"
   ]
  },
  {
   "cell_type": "code",
   "execution_count": 4,
   "metadata": {},
   "outputs": [
    {
     "data": {
      "text/html": [
       "<div>\n",
       "<style>\n",
       "    .dataframe thead tr:only-child th {\n",
       "        text-align: right;\n",
       "    }\n",
       "\n",
       "    .dataframe thead th {\n",
       "        text-align: left;\n",
       "    }\n",
       "\n",
       "    .dataframe tbody tr th {\n",
       "        vertical-align: top;\n",
       "    }\n",
       "</style>\n",
       "<table border=\"1\" class=\"dataframe\">\n",
       "  <thead>\n",
       "    <tr style=\"text-align: right;\">\n",
       "      <th></th>\n",
       "      <th>review_text</th>\n",
       "      <th>unique_business_id</th>\n",
       "    </tr>\n",
       "  </thead>\n",
       "  <tbody>\n",
       "    <tr>\n",
       "      <th>0</th>\n",
       "      <td>If you don't speak Spanish, it is not a proble...</td>\n",
       "      <td>21516</td>\n",
       "    </tr>\n",
       "    <tr>\n",
       "      <th>1</th>\n",
       "      <td>The food wasn't great, and our waitress wasn't...</td>\n",
       "      <td>21516</td>\n",
       "    </tr>\n",
       "    <tr>\n",
       "      <th>2</th>\n",
       "      <td>Awesome prices for the amount of food!!! Very ...</td>\n",
       "      <td>21516</td>\n",
       "    </tr>\n",
       "    <tr>\n",
       "      <th>3</th>\n",
       "      <td>Food was great. You get a lot of food for the ...</td>\n",
       "      <td>21516</td>\n",
       "    </tr>\n",
       "    <tr>\n",
       "      <th>4</th>\n",
       "      <td>I printed a voucher off of restaurant.com and ...</td>\n",
       "      <td>21516</td>\n",
       "    </tr>\n",
       "  </tbody>\n",
       "</table>\n",
       "</div>"
      ],
      "text/plain": [
       "                                         review_text  unique_business_id\n",
       "0  If you don't speak Spanish, it is not a proble...               21516\n",
       "1  The food wasn't great, and our waitress wasn't...               21516\n",
       "2  Awesome prices for the amount of food!!! Very ...               21516\n",
       "3  Food was great. You get a lot of food for the ...               21516\n",
       "4  I printed a voucher off of restaurant.com and ...               21516"
      ]
     },
     "execution_count": 4,
     "metadata": {},
     "output_type": "execute_result"
    }
   ],
   "source": []
  },
  {
   "cell_type": "code",
   "execution_count": 25,
   "metadata": {
    "collapsed": true
   },
   "outputs": [],
   "source": [
    "reviews = df['review_text'].values"
   ]
  },
  {
   "cell_type": "code",
   "execution_count": 49,
   "metadata": {
    "collapsed": true
   },
   "outputs": [],
   "source": [
    "import re\n",
    "import nltk\n",
    "#from nltk.corpus import stopwords\n",
    "\n",
    "import gensim\n",
    "from gensim.parsing.preprocessing import STOPWORDS\n",
    "from nltk.stem.porter import PorterStemmer\n"
   ]
  },
  {
   "cell_type": "code",
   "execution_count": 50,
   "metadata": {
    "collapsed": true
   },
   "outputs": [],
   "source": [
    "texts = [[ps.stem(word) for word in document.lower().split() if word not in STOPWORDS] for document in reviews]"
   ]
  },
  {
   "cell_type": "code",
   "execution_count": 51,
   "metadata": {},
   "outputs": [
    {
     "name": "stdout",
     "output_type": "stream",
     "text": [
      "[\"don't\", 'speak', 'problem', 'look', 'spanish', 'spanish', \"don't\", 'speak', 'problem', 'speak', 'spanish', 'look', 'it.', 'wait', 'time', 'order', 'call', 'place', 'order', 'call', 'littl', 'time', 'lot', 'wait', 'food', 'quick', 'mexican', 'lunch', 'bean', 'food', 'place', 'want', 'quick', 'mexican', 'lunch']\n",
      "['food', \"wasn't\", 'waitress', \"wasn't\", 'want', 'it.', 'ask', 'ask', 'it.', 'flavor']\n",
      "['server']\n",
      "['food', 'lot', 'food', 'waitress', 'littl']\n",
      "['server', \"don't\", 'order', 'lunch', 'chicken', 'ok.', 'flavor', 'chicken', 'bean', 'salsa', 'ok.', 'salsa']\n"
     ]
    }
   ],
   "source": [
    "from collections import defaultdict\n",
    "frequency = defaultdict(int)\n",
    "for text in texts:\n",
    "    for token in text:\n",
    "        frequency[token] +=1\n",
    "\n",
    "texts = [[token for token in text if frequency[token] > 1]for text in texts]\n",
    "for t in texts:\n",
    "    print(t)"
   ]
  },
  {
   "cell_type": "code",
   "execution_count": 52,
   "metadata": {
    "collapsed": true
   },
   "outputs": [],
   "source": [
    "from gensim import corpora\n",
    "dictionary = corpora.Dictionary(texts)"
   ]
  },
  {
   "cell_type": "code",
   "execution_count": 53,
   "metadata": {},
   "outputs": [
    {
     "name": "stdout",
     "output_type": "stream",
     "text": [
      "[[(0, 2), (1, 3), (2, 2), (3, 2), (4, 3), (5, 1), (6, 2), (7, 2), (8, 2), (9, 2), (10, 2), (11, 1), (12, 1), (13, 2), (14, 2), (15, 2), (16, 2), (17, 1), (18, 1)], [(5, 2), (13, 1), (18, 1), (19, 2), (20, 1), (21, 2), (22, 1)], [(23, 1)], [(11, 1), (12, 1), (13, 2), (20, 1)], [(0, 1), (8, 1), (16, 1), (17, 1), (22, 1), (23, 1), (24, 2), (25, 2), (26, 2)]]\n"
     ]
    }
   ],
   "source": [
    "corpus = [dictionary.doc2bow(text) for text in texts]\n",
    "corpora.MmCorpus.serialize('deerwester.mm', corpus)\n",
    "print(corpus)"
   ]
  },
  {
   "cell_type": "code",
   "execution_count": 54,
   "metadata": {
    "collapsed": true
   },
   "outputs": [],
   "source": [
    "dictionary.save('deerwester.dict')"
   ]
  },
  {
   "cell_type": "code",
   "execution_count": 55,
   "metadata": {
    "collapsed": true
   },
   "outputs": [],
   "source": [
    "from gensim import corpora, models, similarities"
   ]
  },
  {
   "cell_type": "code",
   "execution_count": 56,
   "metadata": {
    "collapsed": true
   },
   "outputs": [],
   "source": [
    "dictionary = corpora.Dictionary.load('deerwester.dict')\n",
    "corpus = corpora.MmCorpus('deerwester.mm')\n",
    "tfidf = models.TfidfModel(corpus)"
   ]
  },
  {
   "cell_type": "code",
   "execution_count": 57,
   "metadata": {},
   "outputs": [
    {
     "name": "stdout",
     "output_type": "stream",
     "text": [
      "[(0, 0.15227621610483152), (1, 0.401203090082303), (2, 0.2674687267215353), (3, 0.2674687267215353), (4, 0.401203090082303), (5, 0.07613810805241576), (6, 0.2674687267215353), (7, 0.2674687267215353), (8, 0.15227621610483152), (9, 0.2674687267215353), (10, 0.2674687267215353), (11, 0.07613810805241576), (12, 0.07613810805241576), (13, 0.08489291703013613), (14, 0.2674687267215353), (15, 0.2674687267215353), (16, 0.15227621610483152), (17, 0.07613810805241576), (18, 0.07613810805241576)]\n",
      "[(5, 0.3535958484785971), (13, 0.09856359645300415), (18, 0.17679792423929855), (19, 0.6210807819225194), (20, 0.17679792423929855), (21, 0.6210807819225194), (22, 0.17679792423929855)]\n",
      "[(23, 1.0)]\n",
      "[(11, 0.48546014175425484), (12, 0.48546014175425484), (13, 0.5412812136993267), (20, 0.48546014175425484)]\n",
      "[(0, 0.1524590850964098), (8, 0.1524590850964098), (16, 0.1524590850964098), (17, 0.1524590850964098), (22, 0.1524590850964098), (23, 0.1524590850964098), (24, 0.5355798615299726), (25, 0.5355798615299726), (26, 0.5355798615299726)]\n"
     ]
    }
   ],
   "source": [
    "corpus_tfidf = tfidf[corpus]\n",
    "for doc in corpus_tfidf:\n",
    "    print(doc)"
   ]
  },
  {
   "cell_type": "code",
   "execution_count": 47,
   "metadata": {},
   "outputs": [
    {
     "data": {
      "text/plain": [
       "<gensim.corpora.mmcorpus.MmCorpus at 0x1a16f58c18>"
      ]
     },
     "execution_count": 47,
     "metadata": {},
     "output_type": "execute_result"
    }
   ],
   "source": []
  },
  {
   "cell_type": "code",
   "execution_count": 59,
   "metadata": {},
   "outputs": [
    {
     "data": {
      "text/plain": [
       "[(0,\n",
       "  '0.037*\"server\" + 0.037*\"food\" + 0.037*\"littl\" + 0.037*\"waitress\" + 0.037*\"lot\" + 0.037*\"flavor\" + 0.037*\"ask\" + 0.037*\"want\" + 0.037*\"chicken\" + 0.037*\"salsa\"'),\n",
       " (1,\n",
       "  '0.089*\"speak\" + 0.076*\"spanish\" + 0.062*\"problem\" + 0.058*\"order\" + 0.056*\"time\" + 0.053*\"wait\" + 0.050*\"look\" + 0.049*\"food\" + 0.049*\"lunch\" + 0.048*\"quick\"'),\n",
       " (2,\n",
       "  '0.037*\"server\" + 0.037*\"food\" + 0.037*\"waitress\" + 0.037*\"flavor\" + 0.037*\"ask\" + 0.037*\"lot\" + 0.037*\"littl\" + 0.037*\"it.\" + 0.037*\"lunch\" + 0.037*\"chicken\"'),\n",
       " (3,\n",
       "  '0.175*\"food\" + 0.119*\"wasn\\'t\" + 0.119*\"it.\" + 0.119*\"ask\" + 0.119*\"waitress\" + 0.062*\"want\" + 0.062*\"flavor\" + 0.062*\"littl\" + 0.062*\"lot\" + 0.006*\"server\"'),\n",
       " (4,\n",
       "  '0.297*\"server\" + 0.027*\"food\" + 0.027*\"ask\" + 0.027*\"flavor\" + 0.027*\"waitress\" + 0.027*\"it.\" + 0.027*\"littl\" + 0.027*\"lot\" + 0.027*\"lunch\" + 0.027*\"ok.\"'),\n",
       " (5,\n",
       "  '0.037*\"server\" + 0.037*\"food\" + 0.037*\"ask\" + 0.037*\"waitress\" + 0.037*\"lot\" + 0.037*\"flavor\" + 0.037*\"lunch\" + 0.037*\"want\" + 0.037*\"littl\" + 0.037*\"wasn\\'t\"'),\n",
       " (6,\n",
       "  '0.037*\"server\" + 0.037*\"food\" + 0.037*\"lot\" + 0.037*\"waitress\" + 0.037*\"ask\" + 0.037*\"flavor\" + 0.037*\"ok.\" + 0.037*\"it.\" + 0.037*\"littl\" + 0.037*\"lunch\"'),\n",
       " (7,\n",
       "  '0.080*\"spanish\" + 0.076*\"speak\" + 0.058*\"place\" + 0.058*\"call\" + 0.058*\"mexican\" + 0.057*\"don\\'t\" + 0.057*\"quick\" + 0.056*\"lunch\" + 0.056*\"food\" + 0.056*\"look\"'),\n",
       " (8,\n",
       "  '0.143*\"ok.\" + 0.143*\"salsa\" + 0.143*\"chicken\" + 0.075*\"server\" + 0.075*\"order\" + 0.075*\"bean\" + 0.075*\"flavor\" + 0.075*\"don\\'t\" + 0.075*\"lunch\" + 0.007*\"food\"'),\n",
       " (9,\n",
       "  '0.037*\"server\" + 0.037*\"food\" + 0.037*\"waitress\" + 0.037*\"lot\" + 0.037*\"it.\" + 0.037*\"ask\" + 0.037*\"flavor\" + 0.037*\"chicken\" + 0.037*\"littl\" + 0.037*\"don\\'t\"')]"
      ]
     },
     "execution_count": 59,
     "metadata": {},
     "output_type": "execute_result"
    }
   ],
   "source": [
    "lsi = models.LdaModel(corpus=corpus, id2word=dictionary, num_topics=10)\n",
    "corpus_lsi = lsi[corpus_tfidf]\n",
    "lsi.print_topics(10)"
   ]
  }
 ],
 "metadata": {
  "kernelspec": {
   "display_name": "Python 3",
   "language": "python",
   "name": "python3"
  },
  "language_info": {
   "codemirror_mode": {
    "name": "ipython",
    "version": 3
   },
   "file_extension": ".py",
   "mimetype": "text/x-python",
   "name": "python",
   "nbconvert_exporter": "python",
   "pygments_lexer": "ipython3",
   "version": "3.6.1"
  }
 },
 "nbformat": 4,
 "nbformat_minor": 2
}
