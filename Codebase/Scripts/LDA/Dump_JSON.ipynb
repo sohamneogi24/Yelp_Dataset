{
 "cells": [
  {
   "cell_type": "code",
   "execution_count": 9,
   "metadata": {
    "collapsed": true
   },
   "outputs": [],
   "source": [
    "import json\n",
    "import pandas as pd\n",
    "import glob\n",
    "from pymongo import MongoClient\n",
    "import pickle"
   ]
  },
  {
   "cell_type": "code",
   "execution_count": 11,
   "metadata": {},
   "outputs": [
    {
     "data": {
      "text/plain": [
       "dict"
      ]
     },
     "execution_count": 11,
     "metadata": {},
     "output_type": "execute_result"
    }
   ],
   "source": [
    "\n",
    "path = '/Users/deveshkandpal/Code/ADS/final-project/dataset/dataset/Step6/sentiment-nc/nc_sentiment_corpus.json'\n",
    "\n",
    "rest_corpus_data = pickle.load(open(path, \"rb\"))\n",
    "type(rest_corpus_data)"
   ]
  },
  {
   "cell_type": "code",
   "execution_count": 15,
   "metadata": {},
   "outputs": [
    {
     "data": {
      "text/plain": [
       "dict"
      ]
     },
     "execution_count": 15,
     "metadata": {},
     "output_type": "execute_result"
    }
   ],
   "source": [
    "type(rest_corpus_data)"
   ]
  },
  {
   "cell_type": "code",
   "execution_count": 24,
   "metadata": {},
   "outputs": [
    {
     "name": "stderr",
     "output_type": "stream",
     "text": [
      "/Users/deveshkandpal/anaconda/lib/python3.6/site-packages/ipykernel_launcher.py:10: DeprecationWarning: insert is deprecated. Use insert_one or insert_many instead.\n",
      "  # Remove the CWD from sys.path while we load stuff.\n"
     ]
    }
   ],
   "source": [
    "client = MongoClient('localhost', 27017)\n",
    "# database name is sentiment_data\n",
    "db = client['sentiment_data']\n",
    "# collection name is nc_sentiment_corpus\n",
    "collection = db.nc_sentiment_corpus\n",
    "for key, value in rest_corpus_data.items() :\n",
    "    document = dict()\n",
    "    document['business_id'] = key\n",
    "    document['business_data'] = value\n",
    "    collection.insert(document,check_keys=False)"
   ]
  },
  {
   "cell_type": "code",
   "execution_count": 29,
   "metadata": {},
   "outputs": [],
   "source": [
    "db = client['sentiment_data']\n",
    "# collection name is nc_sentiment_corpus\n",
    "collection = db.nc_sentiment_corpus\n",
    "\n",
    "\n"
   ]
  },
  {
   "cell_type": "code",
   "execution_count": 33,
   "metadata": {},
   "outputs": [
    {
     "name": "stderr",
     "output_type": "stream",
     "text": [
      "/Users/deveshkandpal/anaconda/lib/python3.6/site-packages/ipykernel_launcher.py:15: DeprecationWarning: insert is deprecated. Use insert_one or insert_many instead.\n",
      "  from ipykernel import kernelapp as app\n"
     ]
    }
   ],
   "source": [
    "\n",
    "path = '/Users/deveshkandpal/Code/ADS/final-project/dataset/dataset/Step6/sentiment-nc/nc_bus_review_dict.json'\n",
    "dict_data = pickle.load(open(path, \"rb\"))\n",
    "type(rest_corpus_data)\n",
    "\n",
    "client = MongoClient('localhost', 27017)\n",
    "# database name is sentiment_data\n",
    "db = client['sentiment_data']\n",
    "# collection name is nc_sentiment_corpus\n",
    "collection = db.nc_sentiment_dict\n",
    "for key, value in dict_data.items() :\n",
    "    document = dict()\n",
    "    document['business_id'] = key\n",
    "    document['business_data'] = value\n",
    "    collection.insert(document,check_keys=False)\n",
    "\n"
   ]
  },
  {
   "cell_type": "code",
   "execution_count": 35,
   "metadata": {},
   "outputs": [
    {
     "name": "stderr",
     "output_type": "stream",
     "text": [
      "/Users/deveshkandpal/anaconda/lib/python3.6/site-packages/ipykernel_launcher.py:15: DeprecationWarning: insert is deprecated. Use insert_one or insert_many instead.\n",
      "  from ipykernel import kernelapp as app\n"
     ]
    }
   ],
   "source": [
    "\n",
    "path = '/Users/deveshkandpal/Code/ADS/final-project/dataset/dataset/Step6/sentiment-az/az_bus_review_dict.json'\n",
    "dict_data = pickle.load(open(path, \"rb\"))\n",
    "type(rest_corpus_data)\n",
    "\n",
    "client = MongoClient('localhost', 27017)\n",
    "# database name is sentiment_data\n",
    "db = client['sentiment_data']\n",
    "# collection name is nc_sentiment_corpus\n",
    "collection = db.az_sentiment_dict\n",
    "for key, value in dict_data.items() :\n",
    "    document = dict()\n",
    "    document['business_id'] = key\n",
    "    document['business_data'] = value\n",
    "    collection.insert(document,check_keys=False)\n",
    "\n"
   ]
  },
  {
   "cell_type": "code",
   "execution_count": 36,
   "metadata": {},
   "outputs": [
    {
     "name": "stderr",
     "output_type": "stream",
     "text": [
      "/Users/deveshkandpal/anaconda/lib/python3.6/site-packages/ipykernel_launcher.py:15: DeprecationWarning: insert is deprecated. Use insert_one or insert_many instead.\n",
      "  from ipykernel import kernelapp as app\n"
     ]
    }
   ],
   "source": [
    "\n",
    "path = '/Users/deveshkandpal/Code/ADS/final-project/dataset/dataset/Step6/sentiment-az/az_sentiment_corpus.json'\n",
    "dict_data = pickle.load(open(path, \"rb\"))\n",
    "type(rest_corpus_data)\n",
    "\n",
    "client = MongoClient('localhost', 27017)\n",
    "# database name is sentiment_data\n",
    "db = client['sentiment_data']\n",
    "# collection name is nc_sentiment_corpus\n",
    "collection = db.az_sentiment_corpus\n",
    "for key, value in dict_data.items() :\n",
    "    document = dict()\n",
    "    document['business_id'] = key\n",
    "    document['business_data'] = value\n",
    "    collection.insert(document,check_keys=False)\n",
    "\n"
   ]
  },
  {
   "cell_type": "code",
   "execution_count": 37,
   "metadata": {},
   "outputs": [
    {
     "name": "stderr",
     "output_type": "stream",
     "text": [
      "/Users/deveshkandpal/anaconda/lib/python3.6/site-packages/ipykernel_launcher.py:15: DeprecationWarning: insert is deprecated. Use insert_one or insert_many instead.\n",
      "  from ipykernel import kernelapp as app\n",
      "/Users/deveshkandpal/anaconda/lib/python3.6/site-packages/ipykernel_launcher.py:32: DeprecationWarning: insert is deprecated. Use insert_one or insert_many instead.\n"
     ]
    }
   ],
   "source": [
    "\n",
    "path = '/Users/deveshkandpal/Code/ADS/final-project/dataset/dataset/Step6/sentiment-nv/nv_sentiment_corpus.json'\n",
    "dict_data = pickle.load(open(path, \"rb\"))\n",
    "type(rest_corpus_data)\n",
    "\n",
    "client = MongoClient('localhost', 27017)\n",
    "# database name is sentiment_data\n",
    "db = client['sentiment_data']\n",
    "# collection name is nc_sentiment_corpus\n",
    "collection = db.nv_sentiment_corpus\n",
    "for key, value in dict_data.items() :\n",
    "    document = dict()\n",
    "    document['business_id'] = key\n",
    "    document['business_data'] = value\n",
    "    collection.insert(document,check_keys=False)\n",
    "\n",
    "\n",
    "\n",
    "path = '/Users/deveshkandpal/Code/ADS/final-project/dataset/dataset/Step6/sentiment-nv/nv_bus_review_dict.json'\n",
    "dict_data = pickle.load(open(path, \"rb\"))\n",
    "type(rest_corpus_data)\n",
    "\n",
    "client = MongoClient('localhost', 27017)\n",
    "# database name is sentiment_data\n",
    "db = client['sentiment_data']\n",
    "# collection name is nc_sentiment_corpus\n",
    "collection = db.nv_sentiment_dict\n",
    "for key, value in dict_data.items() :\n",
    "    document = dict()\n",
    "    document['business_id'] = key\n",
    "    document['business_data'] = value\n",
    "    collection.insert(document,check_keys=False)\n",
    "\n"
   ]
  },
  {
   "cell_type": "code",
   "execution_count": 38,
   "metadata": {},
   "outputs": [
    {
     "name": "stderr",
     "output_type": "stream",
     "text": [
      "/Users/deveshkandpal/anaconda/lib/python3.6/site-packages/ipykernel_launcher.py:15: DeprecationWarning: insert is deprecated. Use insert_one or insert_many instead.\n",
      "  from ipykernel import kernelapp as app\n",
      "/Users/deveshkandpal/anaconda/lib/python3.6/site-packages/ipykernel_launcher.py:32: DeprecationWarning: insert is deprecated. Use insert_one or insert_many instead.\n"
     ]
    }
   ],
   "source": [
    "\n",
    "path = '/Users/deveshkandpal/Code/ADS/final-project/dataset/dataset/Step6/sentiment-oh/oh_sentiment_corpus.json'\n",
    "dict_data = pickle.load(open(path, \"rb\"))\n",
    "type(rest_corpus_data)\n",
    "\n",
    "client = MongoClient('localhost', 27017)\n",
    "# database name is sentiment_data\n",
    "db = client['sentiment_data']\n",
    "# collection name is nc_sentiment_corpus\n",
    "collection = db.oh_sentiment_corpus\n",
    "for key, value in dict_data.items() :\n",
    "    document = dict()\n",
    "    document['business_id'] = key\n",
    "    document['business_data'] = value\n",
    "    collection.insert(document,check_keys=False)\n",
    "\n",
    "\n",
    "\n",
    "path = '/Users/deveshkandpal/Code/ADS/final-project/dataset/dataset/Step6/sentiment-oh/oh_bus_review_dict.json'\n",
    "dict_data = pickle.load(open(path, \"rb\"))\n",
    "type(rest_corpus_data)\n",
    "\n",
    "client = MongoClient('localhost', 27017)\n",
    "# database name is sentiment_data\n",
    "db = client['sentiment_data']\n",
    "# collection name is nc_sentiment_corpus\n",
    "collection = db.oh_sentiment_dict\n",
    "for key, value in dict_data.items() :\n",
    "    document = dict()\n",
    "    document['business_id'] = key\n",
    "    document['business_data'] = value\n",
    "    collection.insert(document,check_keys=False)\n",
    "\n"
   ]
  },
  {
   "cell_type": "code",
   "execution_count": 46,
   "metadata": {},
   "outputs": [
    {
     "data": {
      "text/plain": [
       "pandas.core.frame.DataFrame"
      ]
     },
     "execution_count": 46,
     "metadata": {},
     "output_type": "execute_result"
    }
   ],
   "source": [
    "path = '/Users/deveshkandpal/Code/ADS/final-project/dataset/dataset/step3/state=NC/nc.json'\n",
    "\n",
    "dict_data = pd.read_json(path, orient='records', lines=True)\n",
    "\n",
    "type(dict_data)\n",
    "# client = MongoClient('localhost', 27017)\n",
    "# # database name is sentiment_data\n",
    "# db = client['business_data']\n",
    "# # collection name is nc_sentiment_corpus\n",
    "# collection = db.nc_business\n",
    "# for key, value in dict_data.items() :\n",
    "#     document = dict()\n",
    "#     document['business_id'] = key\n",
    "#     document['business_data'] = value\n",
    "#     collection.insert(document,check_keys=False)"
   ]
  },
  {
   "cell_type": "code",
   "execution_count": 53,
   "metadata": {},
   "outputs": [],
   "source": [
    "subset = dict_data[['address','categories', 'city', 'name', 'stars', 'unique_business_id']]\n"
   ]
  },
  {
   "cell_type": "code",
   "execution_count": 54,
   "metadata": {},
   "outputs": [
    {
     "data": {
      "text/plain": [
       "(7560, 6)"
      ]
     },
     "execution_count": 54,
     "metadata": {},
     "output_type": "execute_result"
    }
   ],
   "source": [
    "subset = subset.groupby('unique_business_id').head(2).reset_index(drop=True)\n",
    "subset.shape"
   ]
  },
  {
   "cell_type": "code",
   "execution_count": 59,
   "metadata": {},
   "outputs": [
    {
     "name": "stderr",
     "output_type": "stream",
     "text": [
      "/Users/deveshkandpal/anaconda/lib/python3.6/site-packages/ipykernel_launcher.py:17: DeprecationWarning: insert is deprecated. Use insert_one or insert_many instead.\n"
     ]
    }
   ],
   "source": [
    "\n",
    "state = 'nc'\n",
    "client = MongoClient('localhost', 27017)\n",
    "db = client['business_info']\n",
    "collection = db[state]\n",
    "\n",
    "for r in subset.iterrows() :\n",
    "    document =dict()\n",
    "    row = r[1]\n",
    "    \n",
    "    document['address'] = row['address']\n",
    "    document['categories'] = row['categories']\n",
    "    document['city'] = row['city']\n",
    "    document['name'] = row['name']\n",
    "    document['stars'] = row['stars']\n",
    "    document['business_id'] = row['unique_business_id']\n",
    "    collection.insert(document,check_keys=False)\n",
    "    \n",
    "\n",
    "    "
   ]
  },
  {
   "cell_type": "code",
   "execution_count": 60,
   "metadata": {},
   "outputs": [
    {
     "name": "stderr",
     "output_type": "stream",
     "text": [
      "/Users/deveshkandpal/anaconda/lib/python3.6/site-packages/ipykernel_launcher.py:21: DeprecationWarning: insert is deprecated. Use insert_one or insert_many instead.\n"
     ]
    }
   ],
   "source": [
    "path = '/Users/deveshkandpal/Code/ADS/final-project/dataset/dataset/step3/state=AZ/az.json'\n",
    "dict_data = pd.read_json(path, orient='records', lines=True)\n",
    "subset = dict_data[['address','categories', 'city', 'name', 'stars', 'unique_business_id']]\n",
    "subset = subset.groupby('unique_business_id').head(1).reset_index(drop=True)\n",
    "\n",
    "state = 'az'\n",
    "client = MongoClient('localhost', 27017)\n",
    "db = client['business_info']\n",
    "collection = db[state]\n",
    "\n",
    "for r in subset.iterrows() :\n",
    "    document =dict()\n",
    "    row = r[1]\n",
    "    \n",
    "    document['address'] = row['address']\n",
    "    document['categories'] = row['categories']\n",
    "    document['city'] = row['city']\n",
    "    document['name'] = row['name']\n",
    "    document['stars'] = row['stars']\n",
    "    document['business_id'] = row['unique_business_id']\n",
    "    collection.insert(document,check_keys=False)\n",
    "    \n",
    "\n",
    "    "
   ]
  },
  {
   "cell_type": "code",
   "execution_count": 61,
   "metadata": {},
   "outputs": [
    {
     "name": "stderr",
     "output_type": "stream",
     "text": [
      "/Users/deveshkandpal/anaconda/lib/python3.6/site-packages/ipykernel_launcher.py:21: DeprecationWarning: insert is deprecated. Use insert_one or insert_many instead.\n"
     ]
    }
   ],
   "source": [
    "path = '/Users/deveshkandpal/Code/ADS/final-project/dataset/dataset/step3/state=nc/nc.json'\n",
    "dict_data = pd.read_json(path, orient='records', lines=True)\n",
    "subset = dict_data[['address','categories', 'city', 'name', 'stars', 'unique_business_id']]\n",
    "subset = subset.groupby('unique_business_id').head(1).reset_index(drop=True)\n",
    "\n",
    "state = 'nc'\n",
    "client = MongoClient('localhost', 27017)\n",
    "db = client['business_info']\n",
    "collection = db[state]\n",
    "\n",
    "for r in subset.iterrows() :\n",
    "    document =dict()\n",
    "    row = r[1]\n",
    "    \n",
    "    document['address'] = row['address']\n",
    "    document['categories'] = row['categories']\n",
    "    document['city'] = row['city']\n",
    "    document['name'] = row['name']\n",
    "    document['stars'] = row['stars']\n",
    "    document['business_id'] = row['unique_business_id']\n",
    "    collection.insert(document,check_keys=False)\n",
    "    \n",
    "\n",
    "    "
   ]
  },
  {
   "cell_type": "code",
   "execution_count": 62,
   "metadata": {},
   "outputs": [
    {
     "name": "stderr",
     "output_type": "stream",
     "text": [
      "/Users/deveshkandpal/anaconda/lib/python3.6/site-packages/ipykernel_launcher.py:21: DeprecationWarning: insert is deprecated. Use insert_one or insert_many instead.\n",
      "/Users/deveshkandpal/anaconda/lib/python3.6/site-packages/ipykernel_launcher.py:46: DeprecationWarning: insert is deprecated. Use insert_one or insert_many instead.\n"
     ]
    }
   ],
   "source": [
    "path = '/Users/deveshkandpal/Code/ADS/final-project/dataset/dataset/step3/state=nv/nv.json'\n",
    "dict_data = pd.read_json(path, orient='records', lines=True)\n",
    "subset = dict_data[['address','categories', 'city', 'name', 'stars', 'unique_business_id']]\n",
    "subset = subset.groupby('unique_business_id').head(1).reset_index(drop=True)\n",
    "\n",
    "state = 'nv'\n",
    "client = MongoClient('localhost', 27017)\n",
    "db = client['business_info']\n",
    "collection = db[state]\n",
    "\n",
    "for r in subset.iterrows() :\n",
    "    document =dict()\n",
    "    row = r[1]\n",
    "    \n",
    "    document['address'] = row['address']\n",
    "    document['categories'] = row['categories']\n",
    "    document['city'] = row['city']\n",
    "    document['name'] = row['name']\n",
    "    document['stars'] = row['stars']\n",
    "    document['business_id'] = row['unique_business_id']\n",
    "    collection.insert(document,check_keys=False)\n",
    "    \n",
    "\n",
    "\n",
    "    \n",
    "path = '/Users/deveshkandpal/Code/ADS/final-project/dataset/dataset/step3/state=oh/oh.json'\n",
    "dict_data = pd.read_json(path, orient='records', lines=True)\n",
    "subset = dict_data[['address','categories', 'city', 'name', 'stars', 'unique_business_id']]\n",
    "subset = subset.groupby('unique_business_id').head(1).reset_index(drop=True)\n",
    "\n",
    "state = 'oh'\n",
    "client = MongoClient('localhost', 27017)\n",
    "db = client['business_info']\n",
    "collection = db[state]\n",
    "\n",
    "for r in subset.iterrows() :\n",
    "    document =dict()\n",
    "    row = r[1]\n",
    "    \n",
    "    document['address'] = row['address']\n",
    "    document['categories'] = row['categories']\n",
    "    document['city'] = row['city']\n",
    "    document['name'] = row['name']\n",
    "    document['stars'] = row['stars']\n",
    "    document['business_id'] = row['unique_business_id']\n",
    "    collection.insert(document,check_keys=False)\n",
    "    \n",
    "\n",
    "    "
   ]
  },
  {
   "cell_type": "code",
   "execution_count": 64,
   "metadata": {},
   "outputs": [
    {
     "name": "stderr",
     "output_type": "stream",
     "text": [
      "/Users/deveshkandpal/anaconda/lib/python3.6/site-packages/ipykernel_launcher.py:13: DeprecationWarning: insert is deprecated. Use insert_one or insert_many instead.\n",
      "  del sys.path[0]\n"
     ]
    },
    {
     "data": {
      "text/plain": [
       "ObjectId('5a3433c25a7d8e6a7af33d5d')"
      ]
     },
     "execution_count": 64,
     "metadata": {},
     "output_type": "execute_result"
    }
   ],
   "source": [
    "\n",
    "\n",
    "client = MongoClient('localhost', 27017)\n",
    "db = client['user_info']\n",
    "collection = db['user']\n",
    "document =dict()\n",
    "document['user_name'] = 'test1'\n",
    "document['password'] = ''\n",
    "document['user_id'] = 401514\n",
    "document['cold_start_status'] = False\n",
    "document['state'] = 'NC'\n",
    "\n",
    "collection.insert(document,check_keys=False)\n",
    "\n"
   ]
  },
  {
   "cell_type": "code",
   "execution_count": 66,
   "metadata": {},
   "outputs": [
    {
     "name": "stderr",
     "output_type": "stream",
     "text": [
      "/Users/deveshkandpal/anaconda/lib/python3.6/site-packages/ipykernel_launcher.py:8: DeprecationWarning: insert is deprecated. Use insert_one or insert_many instead.\n",
      "  \n"
     ]
    }
   ],
   "source": [
    "document =dict()\n",
    "document['user_name'] = 'test2'\n",
    "document['password'] = ''\n",
    "document['user_id'] = 7665544\n",
    "document['cold_start_status'] = False\n",
    "document['state'] = 'NC'\n",
    "\n",
    "resp = collection.insert(document,check_keys=False)\n"
   ]
  },
  {
   "cell_type": "code",
   "execution_count": 78,
   "metadata": {},
   "outputs": [
    {
     "data": {
      "text/plain": [
       "NoneType"
      ]
     },
     "execution_count": 78,
     "metadata": {},
     "output_type": "execute_result"
    }
   ],
   "source": [
    "out = collection.find_one({'user_name' : '', 'password' : ''})\n",
    "type(out)"
   ]
  }
 ],
 "metadata": {
  "kernelspec": {
   "display_name": "Python 3",
   "language": "python",
   "name": "python3"
  },
  "language_info": {
   "codemirror_mode": {
    "name": "ipython",
    "version": 3
   },
   "file_extension": ".py",
   "mimetype": "text/x-python",
   "name": "python",
   "nbconvert_exporter": "python",
   "pygments_lexer": "ipython3",
   "version": "3.6.1"
  }
 },
 "nbformat": 4,
 "nbformat_minor": 2
}
